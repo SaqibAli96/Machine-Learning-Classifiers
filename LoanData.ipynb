{
 "cells": [
  {
   "cell_type": "code",
   "execution_count": 25,
   "id": "b33b5806-e3f0-487b-b03f-f317e3619112",
   "metadata": {},
   "outputs": [],
   "source": [
    "import pandas as pd"
   ]
  },
  {
   "cell_type": "code",
   "execution_count": 28,
   "id": "4774cd84-c414-42e5-97c8-9c49e18842f3",
   "metadata": {},
   "outputs": [],
   "source": [
    "loan_data = pd.read_csv(\"loan_data.csv\")"
   ]
  },
  {
   "cell_type": "code",
   "execution_count": 30,
   "id": "0949b933-0099-433f-b984-3e316ac3f53e",
   "metadata": {},
   "outputs": [
    {
     "data": {
      "text/html": [
       "<div>\n",
       "<style scoped>\n",
       "    .dataframe tbody tr th:only-of-type {\n",
       "        vertical-align: middle;\n",
       "    }\n",
       "\n",
       "    .dataframe tbody tr th {\n",
       "        vertical-align: top;\n",
       "    }\n",
       "\n",
       "    .dataframe thead th {\n",
       "        text-align: right;\n",
       "    }\n",
       "</style>\n",
       "<table border=\"1\" class=\"dataframe\">\n",
       "  <thead>\n",
       "    <tr style=\"text-align: right;\">\n",
       "      <th></th>\n",
       "      <th>credit.policy</th>\n",
       "      <th>purpose</th>\n",
       "      <th>int.rate</th>\n",
       "      <th>installment</th>\n",
       "      <th>log.annual.inc</th>\n",
       "      <th>dti</th>\n",
       "      <th>fico</th>\n",
       "      <th>days.with.cr.line</th>\n",
       "      <th>revol.bal</th>\n",
       "      <th>revol.util</th>\n",
       "      <th>inq.last.6mths</th>\n",
       "      <th>delinq.2yrs</th>\n",
       "      <th>pub.rec</th>\n",
       "      <th>not.fully.paid</th>\n",
       "    </tr>\n",
       "  </thead>\n",
       "  <tbody>\n",
       "    <tr>\n",
       "      <th>0</th>\n",
       "      <td>1</td>\n",
       "      <td>debt_consolidation</td>\n",
       "      <td>0.1189</td>\n",
       "      <td>829.10</td>\n",
       "      <td>11.350407</td>\n",
       "      <td>19.48</td>\n",
       "      <td>737</td>\n",
       "      <td>5639.958333</td>\n",
       "      <td>28854</td>\n",
       "      <td>52.1</td>\n",
       "      <td>0</td>\n",
       "      <td>0</td>\n",
       "      <td>0</td>\n",
       "      <td>0</td>\n",
       "    </tr>\n",
       "    <tr>\n",
       "      <th>1</th>\n",
       "      <td>1</td>\n",
       "      <td>credit_card</td>\n",
       "      <td>0.1071</td>\n",
       "      <td>228.22</td>\n",
       "      <td>11.082143</td>\n",
       "      <td>14.29</td>\n",
       "      <td>707</td>\n",
       "      <td>2760.000000</td>\n",
       "      <td>33623</td>\n",
       "      <td>76.7</td>\n",
       "      <td>0</td>\n",
       "      <td>0</td>\n",
       "      <td>0</td>\n",
       "      <td>0</td>\n",
       "    </tr>\n",
       "    <tr>\n",
       "      <th>2</th>\n",
       "      <td>1</td>\n",
       "      <td>debt_consolidation</td>\n",
       "      <td>0.1357</td>\n",
       "      <td>366.86</td>\n",
       "      <td>10.373491</td>\n",
       "      <td>11.63</td>\n",
       "      <td>682</td>\n",
       "      <td>4710.000000</td>\n",
       "      <td>3511</td>\n",
       "      <td>25.6</td>\n",
       "      <td>1</td>\n",
       "      <td>0</td>\n",
       "      <td>0</td>\n",
       "      <td>0</td>\n",
       "    </tr>\n",
       "    <tr>\n",
       "      <th>3</th>\n",
       "      <td>1</td>\n",
       "      <td>debt_consolidation</td>\n",
       "      <td>0.1008</td>\n",
       "      <td>162.34</td>\n",
       "      <td>11.350407</td>\n",
       "      <td>8.10</td>\n",
       "      <td>712</td>\n",
       "      <td>2699.958333</td>\n",
       "      <td>33667</td>\n",
       "      <td>73.2</td>\n",
       "      <td>1</td>\n",
       "      <td>0</td>\n",
       "      <td>0</td>\n",
       "      <td>0</td>\n",
       "    </tr>\n",
       "    <tr>\n",
       "      <th>4</th>\n",
       "      <td>1</td>\n",
       "      <td>credit_card</td>\n",
       "      <td>0.1426</td>\n",
       "      <td>102.92</td>\n",
       "      <td>11.299732</td>\n",
       "      <td>14.97</td>\n",
       "      <td>667</td>\n",
       "      <td>4066.000000</td>\n",
       "      <td>4740</td>\n",
       "      <td>39.5</td>\n",
       "      <td>0</td>\n",
       "      <td>1</td>\n",
       "      <td>0</td>\n",
       "      <td>0</td>\n",
       "    </tr>\n",
       "  </tbody>\n",
       "</table>\n",
       "</div>"
      ],
      "text/plain": [
       "   credit.policy             purpose  int.rate  installment  log.annual.inc  \\\n",
       "0              1  debt_consolidation    0.1189       829.10       11.350407   \n",
       "1              1         credit_card    0.1071       228.22       11.082143   \n",
       "2              1  debt_consolidation    0.1357       366.86       10.373491   \n",
       "3              1  debt_consolidation    0.1008       162.34       11.350407   \n",
       "4              1         credit_card    0.1426       102.92       11.299732   \n",
       "\n",
       "     dti  fico  days.with.cr.line  revol.bal  revol.util  inq.last.6mths  \\\n",
       "0  19.48   737        5639.958333      28854        52.1               0   \n",
       "1  14.29   707        2760.000000      33623        76.7               0   \n",
       "2  11.63   682        4710.000000       3511        25.6               1   \n",
       "3   8.10   712        2699.958333      33667        73.2               1   \n",
       "4  14.97   667        4066.000000       4740        39.5               0   \n",
       "\n",
       "   delinq.2yrs  pub.rec  not.fully.paid  \n",
       "0            0        0               0  \n",
       "1            0        0               0  \n",
       "2            0        0               0  \n",
       "3            0        0               0  \n",
       "4            1        0               0  "
      ]
     },
     "execution_count": 30,
     "metadata": {},
     "output_type": "execute_result"
    }
   ],
   "source": [
    "loan_data.head()"
   ]
  },
  {
   "cell_type": "code",
   "execution_count": null,
   "id": "3105bd5c-1953-4670-9ba2-dc73fa8cbf12",
   "metadata": {},
   "outputs": [],
   "source": []
  },
  {
   "cell_type": "code",
   "execution_count": 32,
   "id": "397162dd-5b16-428b-8646-917ba4225c7e",
   "metadata": {},
   "outputs": [
    {
     "name": "stdout",
     "output_type": "stream",
     "text": [
      "credit.policy          int64\n",
      "purpose               object\n",
      "int.rate             float64\n",
      "installment          float64\n",
      "log.annual.inc       float64\n",
      "dti                  float64\n",
      "fico                   int64\n",
      "days.with.cr.line    float64\n",
      "revol.bal              int64\n",
      "revol.util           float64\n",
      "inq.last.6mths         int64\n",
      "delinq.2yrs            int64\n",
      "pub.rec                int64\n",
      "not.fully.paid         int64\n",
      "dtype: object\n"
     ]
    }
   ],
   "source": [
    "# Check column types\n",
    "print(loan_data.dtypes)"
   ]
  },
  {
   "cell_type": "code",
   "execution_count": 34,
   "id": "45d949e7-2cf0-45a1-bbe6-82cf83726d99",
   "metadata": {},
   "outputs": [
    {
     "data": {
      "image/png": "[encoded data removed]",
      "text/plain": [
       "<Figure size 600x600 with 1 Axes>"
      ]
     },
     "metadata": {},
     "output_type": "display_data"
    }
   ],
   "source": [
    "import matplotlib.pyplot as plt\n",
    "# Helper function for data distribution\n",
    "# Visualize the proportion of borrowers\n",
    "def show_loan_distrib(data):\n",
    "  count = \"\"\n",
    "  if isinstance(data, pd.DataFrame):\n",
    "      count = data[\"not.fully.paid\"].value_counts()\n",
    "  else:\n",
    "      count = data.value_counts()\n",
    "\n",
    "\n",
    "  count.plot(kind = 'pie', explode = [0, 0.1], \n",
    "\n",
    "              figsize = (6, 6), autopct = '%1.1f%%', shadow = True)\n",
    "  plt.ylabel(\"Loan: Fully Paid Vs. Not Fully Paid\")\n",
    "  plt.legend([\"Fully Paid\", \"Not Fully Paid\"])\n",
    "  plt.show()\n",
    "\n",
    "\n",
    "# Visualize the proportion of borrowers\n",
    "show_loan_distrib(loan_data)"
   ]
  },
  {
   "cell_type": "code",
   "execution_count": 36,
   "id": "5f00f074-22c6-4ef7-9597-9c2a5844a20a",
   "metadata": {},
   "outputs": [],
   "source": [
    "###From the pie chart above, we notice that 84% of the borrowers paid their loans back, and only 16% didn’t pay them back, which makes the dataset really imbalanced."
   ]
  },
  {
   "cell_type": "code",
   "execution_count": 38,
   "id": "376a6088-83ec-4fc7-85ec-c9812a930a0a",
   "metadata": {},
   "outputs": [
    {
     "data": {
      "text/plain": [
       "array(['debt_consolidation', 'credit_card', 'all_other',\n",
       "       'home_improvement', 'small_business', 'major_purchase',\n",
       "       'educational'], dtype=object)"
      ]
     },
     "execution_count": 38,
     "metadata": {},
     "output_type": "execute_result"
    }
   ],
   "source": [
    "#the purpose attribute, which needs to be encoded. \n",
    "loan_data.purpose.unique()"
   ]
  },
  {
   "cell_type": "code",
   "execution_count": 40,
   "id": "daf432e0-caff-4ade-9cf7-c4def6ac0ff8",
   "metadata": {},
   "outputs": [
    {
     "name": "stdout",
     "output_type": "stream",
     "text": [
      "credit.policy                   int64\n",
      "int.rate                      float64\n",
      "installment                   float64\n",
      "log.annual.inc                float64\n",
      "dti                           float64\n",
      "fico                            int64\n",
      "days.with.cr.line             float64\n",
      "revol.bal                       int64\n",
      "revol.util                    float64\n",
      "inq.last.6mths                  int64\n",
      "delinq.2yrs                     int64\n",
      "pub.rec                         int64\n",
      "not.fully.paid                  int64\n",
      "purpose_credit_card              bool\n",
      "purpose_debt_consolidation       bool\n",
      "purpose_educational              bool\n",
      "purpose_home_improvement         bool\n",
      "purpose_major_purchase           bool\n",
      "purpose_small_business           bool\n",
      "dtype: object\n"
     ]
    }
   ],
   "source": [
    "encoded_loan_data = pd.get_dummies(loan_data, prefix=\"purpose\",   \n",
    "\n",
    "                                   drop_first=True)\n",
    "print(encoded_loan_data.dtypes)"
   ]
  },
  {
   "cell_type": "code",
   "execution_count": null,
   "id": "d808dfa4-3287-4879-949a-e8324ab4c88d",
   "metadata": {},
   "outputs": [],
   "source": []
  },
  {
   "cell_type": "code",
   "execution_count": 42,
   "id": "b24932bf-3049-4a32-b054-8373ae293e70",
   "metadata": {},
   "outputs": [],
   "source": [
    "from sklearn.model_selection import train_test_split\n",
    "from sklearn.preprocessing import StandardScaler\n",
    "from imblearn.over_sampling import SMOTE"
   ]
  },
  {
   "cell_type": "code",
   "execution_count": 44,
   "id": "3cf3fafe-7a93-4967-bee4-a653206a4265",
   "metadata": {},
   "outputs": [],
   "source": [
    "X = encoded_loan_data.drop('not.fully.paid', axis = 1)\n",
    "y = encoded_loan_data['not.fully.paid']\n",
    "\n",
    "\n",
    "X_train, X_test, y_train, y_test = train_test_split(X, y, test_size=0.30, stratify = y, random_state=2022)"
   ]
  },
  {
   "cell_type": "code",
   "execution_count": null,
   "id": "9af00427-b145-47e6-b573-55273bd43357",
   "metadata": {},
   "outputs": [],
   "source": []
  },
  {
   "cell_type": "code",
   "execution_count": 46,
   "id": "276cf0ba-4779-4070-be9e-846d8fb71ffa",
   "metadata": {},
   "outputs": [
    {
     "data": {
      "text/plain": [
       "not.fully.paid\n",
       "0    8045\n",
       "1    1533\n",
       "Name: count, dtype: int64"
      ]
     },
     "execution_count": 46,
     "metadata": {},
     "output_type": "execute_result"
    }
   ],
   "source": [
    "encoded_loan_data['not.fully.paid'].value_counts()"
   ]
  },
  {
   "cell_type": "markdown",
   "id": "96a00232-8973-4820-8387-b226b4b2df24",
   "metadata": {},
   "source": [
    "### SAMPLING TECHNIQUES \n",
    "##### We will undersample the majority class, which corresponds to the \"fully paid\" (class 0)"
   ]
  },
  {
   "cell_type": "code",
   "execution_count": 48,
   "id": "5ac02dec-2cef-4d7c-9fbf-8d0bee4692da",
   "metadata": {},
   "outputs": [
    {
     "data": {
      "image/png": "[encoded data removed]",
      "text/plain": [
       "<Figure size 600x600 with 1 Axes>"
      ]
     },
     "metadata": {},
     "output_type": "display_data"
    }
   ],
   "source": [
    "X_train_cp = X_train.copy()\n",
    "X_train_cp['not.fully.paid'] = y_train\n",
    "y_0 = X_train_cp[X_train_cp['not.fully.paid'] == 0]\n",
    "y_1 = X_train_cp[X_train_cp['not.fully.paid'] == 1]\n",
    "y_0_undersample = y_0.sample(y_1.shape[0])\n",
    "loan_data_undersample = pd.concat([y_0_undersample, y_1], axis = 0)\n",
    "\n",
    "\n",
    "# Visualize the proportion of borrowers\n",
    "show_loan_distrib(loan_data_undersample)"
   ]
  },
  {
   "cell_type": "markdown",
   "id": "7bfbb062-cd5a-4770-9fc6-35e2af450bcb",
   "metadata": {},
   "source": [
    "### SMOTE Oversampling\n",
    "##### Now we'll perform oversampling on the minority class"
   ]
  },
  {
   "cell_type": "code",
   "execution_count": 50,
   "id": "d8f4464b-5e88-405b-95be-739cf0adc9e5",
   "metadata": {},
   "outputs": [
    {
     "data": {
      "image/png": "[encoded data removed]",
      "text/plain": [
       "<Figure size 600x600 with 1 Axes>"
      ]
     },
     "metadata": {},
     "output_type": "display_data"
    }
   ],
   "source": [
    "smote = SMOTE(sampling_strategy='minority')\n",
    "X_train_SMOTE, y_train_SMOTE = smote.fit_resample(X_train,y_train)\n",
    "\n",
    "# Visualize the proportion of borrowers\n",
    "show_loan_distrib(y_train_SMOTE)"
   ]
  },
  {
   "cell_type": "markdown",
   "id": "6acb5007-69c4-4145-b23d-45f1f76be81c",
   "metadata": {},
   "source": [
    "### Logistic Regression \n",
    "##### Now we'll apply logistic regression and It classifies a data point by modeling its probability of belonging to a given class using the sigmoid function. "
   ]
  },
  {
   "cell_type": "code",
   "execution_count": 52,
   "id": "e82bd160-5da5-4464-abe8-4747defcb3f1",
   "metadata": {},
   "outputs": [],
   "source": [
    "from sklearn.metrics import classification_report, confusion_matrix\n",
    "from sklearn.linear_model import LogisticRegression"
   ]
  },
  {
   "cell_type": "code",
   "execution_count": 54,
   "id": "d98ae43d-9695-453f-84d8-ee229a47505a",
   "metadata": {},
   "outputs": [
    {
     "name": "stdout",
     "output_type": "stream",
     "text": [
      "[[100  61]\n",
      " [ 76  85]]\n",
      "              precision    recall  f1-score   support\n",
      "\n",
      "           0       0.57      0.62      0.59       161\n",
      "           1       0.58      0.53      0.55       161\n",
      "\n",
      "    accuracy                           0.57       322\n",
      "   macro avg       0.58      0.57      0.57       322\n",
      "weighted avg       0.58      0.57      0.57       322\n",
      "\n"
     ]
    },
    {
     "name": "stderr",
     "output_type": "stream",
     "text": [
      "C:\\Users\\ADMIN\\PythonResourceEnv\\Lib\\site-packages\\sklearn\\linear_model\\_logistic.py:469: ConvergenceWarning: lbfgs failed to converge (status=1):\n",
      "STOP: TOTAL NO. of ITERATIONS REACHED LIMIT.\n",
      "\n",
      "Increase the number of iterations (max_iter) or scale the data as shown in:\n",
      "    https://scikit-learn.org/stable/modules/preprocessing.html\n",
      "Please also refer to the documentation for alternative solver options:\n",
      "    https://scikit-learn.org/stable/modules/linear_model.html#logistic-regression\n",
      "  n_iter_i = _check_optimize_result(\n"
     ]
    }
   ],
   "source": [
    "X = loan_data_undersample.drop('not.fully.paid', axis = 1)\n",
    "y = loan_data_undersample['not.fully.paid']\n",
    "X_train, X_test, y_train, y_test = train_test_split(X, y, test_size=0.15, stratify = y, random_state=2022)\n",
    "logistic_classifier = LogisticRegression()\n",
    "logistic_classifier.fit(X_train, y_train)\n",
    "\n",
    "#Prediction \n",
    "y_pred = logistic_classifier.predict(X_test)\n",
    "\n",
    "#Evaluation Metrics\n",
    "print(confusion_matrix(y_test,y_pred))\n",
    "print(classification_report(y_test,y_pred))"
   ]
  },
  {
   "cell_type": "markdown",
   "id": "c478c2b0-9003-40ae-9c9c-6bdeb783cdbf",
   "metadata": {},
   "source": [
    "### Support Vector Machines \n",
    "##### SVM learns to draw the hyperplane (decision boundary) by using the margin to maximization principle. This decision boundary is drawn through the two closest support vectors. \n",
    "##### SVM provides a transformation strategy called kernel tricks used to project non-learner separable data onto a higher dimension space to make them linearly separable. "
   ]
  },
  {
   "cell_type": "code",
   "execution_count": 56,
   "id": "891d551a-8b45-4268-a83a-c3ebc9b657f4",
   "metadata": {},
   "outputs": [],
   "source": [
    "from sklearn.svm import SVC"
   ]
  },
  {
   "cell_type": "code",
   "execution_count": 59,
   "id": "4a1d73ad-1dc9-4af4-9614-22aea7346e4b",
   "metadata": {},
   "outputs": [
    {
     "name": "stdout",
     "output_type": "stream",
     "text": [
      "              precision    recall  f1-score   support\n",
      "\n",
      "           0       0.58      0.39      0.46       161\n",
      "           1       0.54      0.72      0.62       161\n",
      "\n",
      "    accuracy                           0.55       322\n",
      "   macro avg       0.56      0.55      0.54       322\n",
      "weighted avg       0.56      0.55      0.54       322\n",
      "\n"
     ]
    }
   ],
   "source": [
    "svc_classifier = SVC(kernel='linear')\n",
    "svc_classifier.fit(X_train, y_train)\n",
    "\n",
    "\n",
    "# SVM Prediction\n",
    "y_pred = svc_classifier.predict(X_test)\n",
    "\n",
    "print(classification_report(y_test,y_pred))"
   ]
  },
  {
   "cell_type": "code",
   "execution_count": null,
   "id": "efd5f4bd-f2db-446f-99d9-8708b24e957e",
   "metadata": {},
   "outputs": [],
   "source": []
  },
  {
   "cell_type": "code",
   "execution_count": null,
   "id": "a61eb714-79a5-44b0-8704-ef1dafbf827b",
   "metadata": {},
   "outputs": [],
   "source": []
  }
 ],
 "metadata": {
  "kernelspec": {
   "display_name": "Python 3 (ipykernel)",
   "language": "python",
   "name": "python3"
  },
  "language_info": {
   "codemirror_mode": {
    "name": "ipython",
    "version": 3
   },
   "file_extension": ".py",
   "mimetype": "text/x-python",
   "name": "python",
   "nbconvert_exporter": "python",
   "pygments_lexer": "ipython3",
   "version": "3.12.2"
  }
 },
 "nbformat": 4,
 "nbformat_minor": 5
}
